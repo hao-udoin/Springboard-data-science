{
 "cells": [
  {
   "cell_type": "markdown",
   "metadata": {
    "colab_type": "text",
    "id": "Tia3MP1SJpgj"
   },
   "source": [
    "# Springboard Data Science Career Track Unit 4 Challenge - Tier 3 Complete\n",
    "\n",
    "## Objectives\n",
    "Hey! Great job getting through those challenging DataCamp courses. You're learning a lot in a short span of time. \n",
    "\n",
    "In this notebook, you're going to apply the skills you've been learning, bridging the gap between the controlled environment of DataCamp and the *slightly* messier work that data scientists do with actual datasets!\n",
    "\n",
    "Here’s the mystery we’re going to solve: ***which boroughs of London have seen the greatest increase in housing prices, on average, over the last two decades?***\n",
    "\n",
    "\n",
    "A borough is just a fancy word for district. You may be familiar with the five boroughs of New York… well, there are 32 boroughs within Greater London [(here's some info for the curious)](https://en.wikipedia.org/wiki/London_boroughs). Some of them are more desirable areas to live in, and the data will reflect that with a greater rise in housing prices.\n",
    "\n",
    "***This is the Tier 3 notebook, which means it's not filled in at all: we'll just give you the skeleton of a project, the brief and the data. It's up to you to play around with it and see what you can find out! Good luck! If you struggle, feel free to look at easier tiers for help; but try to dip in and out of them, as the more independent work you do, the better it is for your learning!***\n",
    "\n",
    "This challenge will make use of only what you learned in the following DataCamp courses: \n",
    "- Prework courses (Introduction to Python for Data Science, Intermediate Python for Data Science)\n",
    "- Data Types for Data Science\n",
    "- Python Data Science Toolbox (Part One) \n",
    "- pandas Foundations\n",
    "- Manipulating DataFrames with pandas\n",
    "- Merging DataFrames with pandas\n",
    "\n",
    "Of the tools, techniques and concepts in the above DataCamp courses, this challenge should require the application of the following: \n",
    "- **pandas**\n",
    "    - **data ingestion and inspection** (pandas Foundations, Module One) \n",
    "    - **exploratory data analysis** (pandas Foundations, Module Two)\n",
    "    - **tidying and cleaning** (Manipulating DataFrames with pandas, Module Three) \n",
    "    - **transforming DataFrames** (Manipulating DataFrames with pandas, Module One)\n",
    "    - **subsetting DataFrames with lists** (Manipulating DataFrames with pandas, Module One) \n",
    "    - **filtering DataFrames** (Manipulating DataFrames with pandas, Module One) \n",
    "    - **grouping data** (Manipulating DataFrames with pandas, Module Four) \n",
    "    - **melting data** (Manipulating DataFrames with pandas, Module Three) \n",
    "    - **advanced indexing** (Manipulating DataFrames with pandas, Module Four) \n",
    "- **matplotlib** (Intermediate Python for Data Science, Module One)\n",
    "- **fundamental data types** (Data Types for Data Science, Module One) \n",
    "- **dictionaries** (Intermediate Python for Data Science, Module Two)\n",
    "- **handling dates and times** (Data Types for Data Science, Module Four)\n",
    "- **function definition** (Python Data Science Toolbox - Part One, Module One)\n",
    "- **default arguments, variable length, and scope** (Python Data Science Toolbox - Part One, Module Two) \n",
    "- **lambda functions and error handling** (Python Data Science Toolbox - Part One, Module Four) "
   ]
  },
  {
   "cell_type": "markdown",
   "metadata": {
    "colab_type": "text",
    "id": "Ipgd2nV8Jpgl"
   },
   "source": [
    "## The Data Science Pipeline\n",
    "\n",
    "This is Tier Three, so we'll get you started. But after that, it's all in your hands! When you feel done with your investigations, look back over what you've accomplished, and prepare a quick presentation of your findings for the next mentor meeting. \n",
    "\n",
    "Data Science is magical. In this case study, you'll get to apply some complex machine learning algorithms. But as  [David Spiegelhalter](https://www.youtube.com/watch?v=oUs1uvsz0Ok) reminds us, there is no substitute for simply **taking a really, really good look at the data.** Sometimes, this is all we need to answer our question.\n",
    "\n",
    "Data Science projects generally adhere to the four stages of Data Science Pipeline:\n",
    "1. Sourcing and loading \n",
    "2. Cleaning, transforming, and visualizing \n",
    "3. Modeling \n",
    "4. Evaluating and concluding \n"
   ]
  },
  {
   "cell_type": "markdown",
   "metadata": {
    "colab_type": "text",
    "id": "zswDqbefJpgm"
   },
   "source": [
    "### 1. Sourcing and Loading \n",
    "\n",
    "Any Data Science project kicks off by importing  ***pandas***. The documentation of this wonderful library can be found [here](https://pandas.pydata.org/). As you've seen, pandas is conveniently connected to the [Numpy](http://www.numpy.org/) and [Matplotlib](https://matplotlib.org/) libraries. \n",
    "\n",
    "***Hint:*** This part of the data science pipeline will test those skills you acquired in the pandas Foundations course, Module One. "
   ]
  },
  {
   "cell_type": "markdown",
   "metadata": {
    "colab_type": "text",
    "id": "aEau5nEvJpgm"
   },
   "source": [
    "#### 1.1. Importing Libraries"
   ]
  },
  {
   "cell_type": "code",
   "execution_count": 1,
   "metadata": {
    "colab": {},
    "colab_type": "code",
    "id": "7Bt_Q_oPJpgn"
   },
   "outputs": [],
   "source": [
    "# Let's import the pandas, numpy libraries as pd, and np respectively. \n",
    "import pandas as pd\n",
    "import numpy as np\n",
    "\n",
    "# Load the pyplot collection of functions from matplotlib, as plt \n",
    "import matplotlib.pyplot as plt"
   ]
  },
  {
   "cell_type": "markdown",
   "metadata": {
    "colab_type": "text",
    "id": "koUrawxsJpgq"
   },
   "source": [
    "#### 1.2.  Loading the data\n",
    "Your data comes from the [London Datastore](https://data.london.gov.uk/): a free, open-source data-sharing portal for London-oriented datasets. "
   ]
  },
  {
   "cell_type": "code",
   "execution_count": 2,
   "metadata": {
    "colab": {},
    "colab_type": "code",
    "id": "AiLiD4v3Jpgr"
   },
   "outputs": [],
   "source": [
    "# First, make a variable called url_LondonHousePrices, and assign it the following link, enclosed in quotation-marks as a string:\n",
    "# https://data.london.gov.uk/download/uk-house-price-index/70ac0766-8902-4eb5-aab5-01951aaed773/UK%20House%20price%20index.xls\n",
    "\n",
    "url_LondonHousePrices = \"https://data.london.gov.uk/download/uk-house-price-index/70ac0766-8902-4eb5-aab5-01951aaed773/UK%20House%20price%20index.xls\"\n",
    "\n",
    "# The dataset we're interested in contains the Average prices of the houses, and is actually on a particular sheet of the Excel file. \n",
    "# As a result, we need to specify the sheet name in the read_excel() method.\n",
    "# Put this data into a variable called properties.  \n",
    "properties = pd.read_excel(url_LondonHousePrices, sheet_name='Average price', index_col= None)"
   ]
  },
  {
   "cell_type": "markdown",
   "metadata": {
    "colab_type": "text",
    "id": "POukEJXgJpgu"
   },
   "source": [
    "### 2. Cleaning, transforming, and visualizing\n",
    "This second stage is arguably the most important part of any Data Science project. The first thing to do is take a proper look at the data. Cleaning forms the majority of this stage, and can be done both before or after Transformation.\n",
    "\n",
    "The end goal of data cleaning is to have tidy data. When data is tidy: \n",
    "\n",
    "1. Each variable has a column.\n",
    "2. Each observation forms a row.\n",
    "\n",
    "Keep the end goal in mind as you move through this process, every step will take you closer. \n",
    "\n",
    "\n",
    "\n",
    "***Hint:*** This part of the data science pipeline should test those skills you acquired in: \n",
    "- Intermediate Python for data science, all modules.\n",
    "- pandas Foundations, all modules. \n",
    "- Manipulating DataFrames with pandas, all modules.\n",
    "- Data Types for Data Science, Module Four.\n",
    "- Python Data Science Toolbox - Part One, all modules"
   ]
  },
  {
   "cell_type": "markdown",
   "metadata": {
    "colab_type": "text",
    "id": "Te0Q548tnzZa"
   },
   "source": [
    "**2.1. Exploring your data** \n",
    "\n",
    "Think about your pandas functions for checking out a dataframe. "
   ]
  },
  {
   "cell_type": "code",
   "execution_count": 3,
   "metadata": {
    "colab": {},
    "colab_type": "code",
    "id": "Rxirxw_qoAJa"
   },
   "outputs": [
    {
     "name": "stdout",
     "output_type": "stream",
     "text": [
      "(345, 49)\n",
      "  Unnamed: 0 City of London Barking & Dagenham       Barnet       Bexley  \\\n",
      "0        NaT      E09000001          E09000002    E09000003    E09000004   \n",
      "1 1995-01-01    91448.98487         50460.2266  93284.51832  64958.09036   \n",
      "2 1995-02-01    82202.77314        51085.77983  93190.16963  64787.92069   \n",
      "3 1995-03-01    79120.70256        51268.96956  92247.52435  64367.49344   \n",
      "4 1995-04-01    77101.20804        53133.50526  90762.87492  64277.66881   \n",
      "\n",
      "         Brent      Bromley       Camden      Croydon       Ealing  ...  \\\n",
      "0    E09000005    E09000006    E09000007    E09000008    E09000009  ...   \n",
      "1  71306.56698  81671.47692  120932.8881  69158.16225  79885.89069  ...   \n",
      "2  72022.26197  81657.55944  119508.8622  68951.09542  80897.06551  ...   \n",
      "3  72015.76274  81449.31143  120282.2131  68712.44341  81379.86288  ...   \n",
      "4  72965.63094  81124.41227   120097.899  68610.04641  82188.90498  ...   \n",
      "\n",
      "    NORTH WEST YORKS & THE HUMBER EAST MIDLANDS WEST MIDLANDS EAST OF ENGLAND  \\\n",
      "0    E12000002          E12000003     E12000004     E12000005       E12000006   \n",
      "1  43958.48001        44803.42878   45544.52227   48527.52339      56701.5961   \n",
      "2  43925.42289        44528.80721   46051.57066   49341.29029     56593.59475   \n",
      "3   44434.8681        45200.46775   45383.82395   49442.17973     56171.18278   \n",
      "4   44267.7796        45614.34341   46124.23045   49455.93299     56567.89582   \n",
      "\n",
      "        LONDON   SOUTH EAST   SOUTH WEST Unnamed: 47      England  \n",
      "0    E12000007    E12000008    E12000009         NaN    E92000001  \n",
      "1  74435.76052  64018.87894   54705.1579         NaN  53202.77128  \n",
      "2  72777.93709  63715.02399  54356.14843         NaN   53096.1549  \n",
      "3  73896.84204  64113.60858  53583.07667         NaN   53201.2843  \n",
      "4  74455.28754  64623.22395  54786.01938         NaN   53590.8548  \n",
      "\n",
      "[5 rows x 49 columns]\n"
     ]
    }
   ],
   "source": [
    "print(properties.shape)\n",
    "print(properties.head())"
   ]
  },
  {
   "cell_type": "markdown",
   "metadata": {
    "colab_type": "text",
    "id": "tE9Sqt9-oAta"
   },
   "source": [
    "**2.2. Cleaning the data**\n",
    "\n",
    "You might find you need to transpose your dataframe, check out what its row indexes are, and reset the index. You  also might find you need to assign the values of the first row to your column headings  . (Hint: recall the .columns feature of DataFrames, as well as the iloc[] method).\n",
    "\n",
    "Don't be afraid to use StackOverflow for help  with this."
   ]
  },
  {
   "cell_type": "code",
   "execution_count": 4,
   "metadata": {
    "colab": {},
    "colab_type": "code",
    "id": "cdAu1A3YoH_r"
   },
   "outputs": [
    {
     "name": "stdout",
     "output_type": "stream",
     "text": [
      "0          Unnamed: 0        NaT 1995-01-01 00:00:00 1995-02-01 00:00:00  \\\n",
      "1      City of London  E09000001         91448.98487         82202.77314   \n",
      "2  Barking & Dagenham  E09000002          50460.2266         51085.77983   \n",
      "3              Barnet  E09000003         93284.51832         93190.16963   \n",
      "4              Bexley  E09000004         64958.09036         64787.92069   \n",
      "5               Brent  E09000005         71306.56698         72022.26197   \n",
      "\n",
      "0 1995-03-01 00:00:00 1995-04-01 00:00:00 1995-05-01 00:00:00  \\\n",
      "1         79120.70256         77101.20804         84409.14932   \n",
      "2         51268.96956         53133.50526         53042.24852   \n",
      "3         92247.52435         90762.87492         90258.00033   \n",
      "4         64367.49344         64277.66881         63997.13588   \n",
      "5         72015.76274         72965.63094         73704.04743   \n",
      "\n",
      "0 1995-06-01 00:00:00 1995-07-01 00:00:00 1995-08-01 00:00:00  ...  \\\n",
      "1         94900.51244         110128.0423         112329.4376  ...   \n",
      "2         53700.34831         52113.12157         52232.19868  ...   \n",
      "3         90107.23471         91441.24768         92361.31512  ...   \n",
      "4         64252.32335         63722.70055         64432.60005  ...   \n",
      "5         74310.48167         74127.03788          73547.0411  ...   \n",
      "\n",
      "0 2022-11-01 00:00:00 2022-12-01 00:00:00 2023-01-01 00:00:00  \\\n",
      "1             1004980              989002              976880   \n",
      "2              354425              356184              353028   \n",
      "3              591947              592792              597531   \n",
      "4              408668              408509              400602   \n",
      "5              564101              554306              550731   \n",
      "\n",
      "0 2023-02-01 00:00:00 2023-03-01 00:00:00 2023-04-01 00:00:00  \\\n",
      "1              882390              928659              901416   \n",
      "2              345576              344707              347952   \n",
      "3              604633              598613              589433   \n",
      "4              402515              400047              399571   \n",
      "5              534058              526204              523326   \n",
      "\n",
      "0 2023-05-01 00:00:00 2023-06-01 00:00:00 2023-07-01 00:00:00  \\\n",
      "1              950017              943903              928536   \n",
      "2              350094              346736              343646   \n",
      "3              577357              578060              586454   \n",
      "4              394745              394225              400227   \n",
      "5              528847              534745              535976   \n",
      "\n",
      "0 2023-08-01 00:00:00  \n",
      "1              889432  \n",
      "2              349371  \n",
      "3              598661  \n",
      "4              393738  \n",
      "5              562572  \n",
      "\n",
      "[5 rows x 346 columns]\n"
     ]
    }
   ],
   "source": [
    "#Transpose the dataframe\n",
    "properties_T = properties.transpose()\n",
    "#print(properties_T.head())\n",
    "\n",
    "#The row indices are now regions; reset the indices\n",
    "properties_ind = properties_T.reset_index()\n",
    "#print(properties_ind.head())\n",
    "\n",
    "#The column headings should take the value of the first row, then remove the first row\n",
    "properties_ind.columns = properties_ind.iloc[0]\n",
    "properties_col = properties_ind[1:]\n",
    "\n",
    "print(properties_col.head())"
   ]
  },
  {
   "cell_type": "markdown",
   "metadata": {
    "colab_type": "text",
    "id": "o1uLbJAsoIjK"
   },
   "source": [
    "**2.3. Cleaning the data (part 2)**\n",
    "\n",
    "You might we have to **rename** a couple columns. How do you do this? The clue's pretty bold..."
   ]
  },
  {
   "cell_type": "code",
   "execution_count": 5,
   "metadata": {
    "colab": {},
    "colab_type": "code",
    "id": "GKkmn1AnoVZS"
   },
   "outputs": [
    {
     "name": "stdout",
     "output_type": "stream",
     "text": [
      "0      London Borough         ID 1995-01-01 00:00:00 1995-02-01 00:00:00  \\\n",
      "1      City of London  E09000001         91448.98487         82202.77314   \n",
      "2  Barking & Dagenham  E09000002          50460.2266         51085.77983   \n",
      "3              Barnet  E09000003         93284.51832         93190.16963   \n",
      "4              Bexley  E09000004         64958.09036         64787.92069   \n",
      "5               Brent  E09000005         71306.56698         72022.26197   \n",
      "\n",
      "0 1995-03-01 00:00:00 1995-04-01 00:00:00 1995-05-01 00:00:00  \\\n",
      "1         79120.70256         77101.20804         84409.14932   \n",
      "2         51268.96956         53133.50526         53042.24852   \n",
      "3         92247.52435         90762.87492         90258.00033   \n",
      "4         64367.49344         64277.66881         63997.13588   \n",
      "5         72015.76274         72965.63094         73704.04743   \n",
      "\n",
      "0 1995-06-01 00:00:00 1995-07-01 00:00:00 1995-08-01 00:00:00  ...  \\\n",
      "1         94900.51244         110128.0423         112329.4376  ...   \n",
      "2         53700.34831         52113.12157         52232.19868  ...   \n",
      "3         90107.23471         91441.24768         92361.31512  ...   \n",
      "4         64252.32335         63722.70055         64432.60005  ...   \n",
      "5         74310.48167         74127.03788          73547.0411  ...   \n",
      "\n",
      "0 2022-11-01 00:00:00 2022-12-01 00:00:00 2023-01-01 00:00:00  \\\n",
      "1             1004980              989002              976880   \n",
      "2              354425              356184              353028   \n",
      "3              591947              592792              597531   \n",
      "4              408668              408509              400602   \n",
      "5              564101              554306              550731   \n",
      "\n",
      "0 2023-02-01 00:00:00 2023-03-01 00:00:00 2023-04-01 00:00:00  \\\n",
      "1              882390              928659              901416   \n",
      "2              345576              344707              347952   \n",
      "3              604633              598613              589433   \n",
      "4              402515              400047              399571   \n",
      "5              534058              526204              523326   \n",
      "\n",
      "0 2023-05-01 00:00:00 2023-06-01 00:00:00 2023-07-01 00:00:00  \\\n",
      "1              950017              943903              928536   \n",
      "2              350094              346736              343646   \n",
      "3              577357              578060              586454   \n",
      "4              394745              394225              400227   \n",
      "5              528847              534745              535976   \n",
      "\n",
      "0 2023-08-01 00:00:00  \n",
      "1              889432  \n",
      "2              349371  \n",
      "3              598661  \n",
      "4              393738  \n",
      "5              562572  \n",
      "\n",
      "[5 rows x 346 columns]\n"
     ]
    }
   ],
   "source": [
    "#Rename columns\n",
    "properties_col = properties_col.rename(columns={'Unnamed: 0':'London Borough', pd.NaT:'ID'})\n",
    "\n",
    "print(properties_col.head())"
   ]
  },
  {
   "cell_type": "markdown",
   "metadata": {
    "colab_type": "text",
    "id": "jy8BzXHmoWEw"
   },
   "source": [
    "**2.4.Transforming the data**\n",
    "\n",
    "Remember what Wes McKinney said about tidy data? \n",
    "\n",
    "You might need to **melt** your DataFrame here. "
   ]
  },
  {
   "cell_type": "code",
   "execution_count": 6,
   "metadata": {
    "colab": {},
    "colab_type": "code",
    "id": "S2wM0qLuo2Zt"
   },
   "outputs": [
    {
     "name": "stdout",
     "output_type": "stream",
     "text": [
      "          ID      London Borough      Month Average Price\n",
      "0  E09000001      City of London 1995-01-01   91448.98487\n",
      "1  E09000002  Barking & Dagenham 1995-01-01    50460.2266\n",
      "2  E09000003              Barnet 1995-01-01   93284.51832\n",
      "3  E09000004              Bexley 1995-01-01   64958.09036\n",
      "4  E09000005               Brent 1995-01-01   71306.56698\n"
     ]
    }
   ],
   "source": [
    "#Melt dataframe such that each row contains the ID, Average Price, Month and London Borough\n",
    "properties_melt = properties_col.melt(id_vars=['ID','London Borough'],\\\n",
    "                                      var_name='Month',\\\n",
    "                                      value_name='Average Price')\n",
    "\n",
    "print(properties_melt.head())"
   ]
  },
  {
   "cell_type": "markdown",
   "metadata": {
    "colab_type": "text",
    "id": "7kIsgAo7o3mf"
   },
   "source": [
    "Remember to make sure your column data types are all correct. Average prices, for example, should be floating point numbers... "
   ]
  },
  {
   "cell_type": "code",
   "execution_count": 7,
   "metadata": {
    "colab": {},
    "colab_type": "code",
    "id": "ZcR4IHbcpOaq"
   },
   "outputs": [
    {
     "name": "stdout",
     "output_type": "stream",
     "text": [
      "ID                        object\n",
      "London Borough            object\n",
      "Month             datetime64[ns]\n",
      "Average Price             object\n",
      "dtype: object\n",
      "ID                        object\n",
      "London Borough            object\n",
      "Month             datetime64[ns]\n",
      "Average Price            float64\n",
      "dtype: object\n"
     ]
    }
   ],
   "source": [
    "#Check data types of each column\n",
    "print(properties_melt.dtypes)\n",
    "\n",
    "#Note the Average Price column has data type object; convert to float\n",
    "properties_dtype = properties_melt.astype({'Average Price':float})\n",
    "\n",
    "print(properties_dtype.dtypes)"
   ]
  },
  {
   "cell_type": "markdown",
   "metadata": {
    "colab_type": "text",
    "id": "knLUXHLypOtw"
   },
   "source": [
    "**2.5. Cleaning the data (part 3)**\n",
    "\n",
    "Do we have an equal number of observations in the ID, Average Price, Month, and London Borough columns? Remember that there are only 32 London Boroughs. How many entries do you have in that column? \n",
    "\n",
    "Check out the contents of the London Borough column, and if you find null values, get rid of them however you see fit. "
   ]
  },
  {
   "cell_type": "code",
   "execution_count": 8,
   "metadata": {
    "colab": {},
    "colab_type": "code",
    "id": "BnvTW5a3p0fC"
   },
   "outputs": [
    {
     "name": "stdout",
     "output_type": "stream",
     "text": [
      "ID                15480\n",
      "London Borough    16512\n",
      "Month             16512\n",
      "Average Price     15480\n",
      "dtype: int64\n",
      "ID                   45\n",
      "London Borough       48\n",
      "Month               344\n",
      "Average Price     15480\n",
      "dtype: int64\n",
      "['City of London' 'Barking & Dagenham' 'Barnet' 'Bexley' 'Brent' 'Bromley'\n",
      " 'Camden' 'Croydon' 'Ealing' 'Enfield' 'Greenwich' 'Hackney'\n",
      " 'Hammersmith & Fulham' 'Haringey' 'Harrow' 'Havering' 'Hillingdon'\n",
      " 'Hounslow' 'Islington' 'Kensington & Chelsea' 'Kingston upon Thames'\n",
      " 'Lambeth' 'Lewisham' 'Merton' 'Newham' 'Redbridge' 'Richmond upon Thames'\n",
      " 'Southwark' 'Sutton' 'Tower Hamlets' 'Waltham Forest' 'Wandsworth'\n",
      " 'Westminster' 'Unnamed: 34' 'Inner London' 'Outer London' 'Unnamed: 37'\n",
      " 'NORTH EAST' 'NORTH WEST' 'YORKS & THE HUMBER' 'EAST MIDLANDS'\n",
      " 'WEST MIDLANDS' 'EAST OF ENGLAND' 'LONDON' 'SOUTH EAST' 'SOUTH WEST'\n",
      " 'Unnamed: 47' 'England']\n",
      "ID                11008\n",
      "London Borough    11008\n",
      "Month             11008\n",
      "Average Price     11008\n",
      "dtype: int64\n",
      "ID                   32\n",
      "London Borough       32\n",
      "Month               344\n",
      "Average Price     11008\n",
      "dtype: int64\n",
      "['Barking & Dagenham' 'Barnet' 'Bexley' 'Brent' 'Bromley' 'Camden'\n",
      " 'Croydon' 'Ealing' 'Enfield' 'Greenwich' 'Hackney' 'Hammersmith & Fulham'\n",
      " 'Haringey' 'Harrow' 'Havering' 'Hillingdon' 'Hounslow' 'Islington'\n",
      " 'Kensington & Chelsea' 'Kingston upon Thames' 'Lambeth' 'Lewisham'\n",
      " 'Merton' 'Newham' 'Redbridge' 'Richmond upon Thames' 'Southwark' 'Sutton'\n",
      " 'Tower Hamlets' 'Waltham Forest' 'Wandsworth' 'Westminster']\n"
     ]
    }
   ],
   "source": [
    "#Count numer of observations in each column\n",
    "print(properties_dtype.count())\n",
    "#Notice for some boroughs and months there is no data\n",
    "print(properties_dtype.nunique())\n",
    "#Also there are more boroughs than expected (32)\n",
    "print(properties_dtype['London Borough'].unique())\n",
    "#Some of these regions are not London boroughs, see this dictionary\n",
    "borough_ID = {'Westminster': 2, 'Kensington & Chelsea': 3, 'Hammersmith & Fulham': 4,\\\n",
    "               'Wandsworth': 5, 'Lambeth': 6, 'Southwark': 7, 'Tower Hamlets': 8,\\\n",
    "               'Hackney': 9, 'Islington': 10, 'Camden': 11, 'Brent': 12, 'Ealing': 13,\\\n",
    "               'Hounslow': 14, 'Richmond upon Thames': 15, 'Kingston upon Thames': 16,\\\n",
    "               'Merton': 17, 'Sutton': 18, 'Croydon': 19, 'Bromley': 20, 'Lewisham': 21,\\\n",
    "               'Greenwich': 22, 'Bexley': 23, 'Havering': 24, 'Barking & Dagenham': 25,\\\n",
    "               'Redbridge': 26, 'Newham': 27, 'Waltham Forest': 28, 'Haringey': 29,\\\n",
    "               'Enfield': 30, 'Barnet': 31, 'Harrow': 32, 'Hillingdon': 33}\n",
    "\n",
    "#Remove rows with missing data\n",
    "properties_full = properties_dtype.dropna()\n",
    "#Remove rows with irrelevant regions\n",
    "properties_clean = properties_full[properties_full['London Borough'].isin(borough_ID)]\n",
    "\n",
    "#Check if the dataframe is clean\n",
    "print(properties_clean.count())\n",
    "print(properties_clean.nunique())\n",
    "print(properties_clean['London Borough'].unique())"
   ]
  },
  {
   "cell_type": "code",
   "execution_count": 9,
   "metadata": {},
   "outputs": [
    {
     "name": "stdout",
     "output_type": "stream",
     "text": [
      "    London Borough      Month  Average Price  ID\n",
      "32     Westminster 1995-01-01    133025.2772   2\n",
      "80     Westminster 1995-02-01    131468.3096   2\n",
      "128    Westminster 1995-03-01    132260.3417   2\n",
      "176    Westminster 1995-04-01    133370.2036   2\n",
      "224    Westminster 1995-05-01    133911.1117   2\n"
     ]
    }
   ],
   "source": [
    "#I would also like to redo the ID according to the dictionary as well as sort dataframe\n",
    "properties_newID = properties_clean.drop(columns=['ID'])\n",
    "properties_newID['ID'] = properties_clean['London Borough'].map(borough_ID)\n",
    "props = properties_newID.sort_values(['ID','Month'])\n",
    "print(props.head())"
   ]
  },
  {
   "cell_type": "markdown",
   "metadata": {
    "colab_type": "text",
    "id": "PGEx6mJsp6dG"
   },
   "source": [
    "**2.6. Visualizing the data**\n",
    "\n",
    "To visualize the data, why not subset on a particular London Borough? Maybe do a line plot of Month against Average Price?"
   ]
  },
  {
   "cell_type": "code",
   "execution_count": 10,
   "metadata": {
    "colab": {},
    "colab_type": "code",
    "id": "nAg5pT9cqHAR"
   },
   "outputs": [
    {
     "data": {
      "text/plain": [
       "[<matplotlib.lines.Line2D at 0x13a18c190>]"
      ]
     },
     "execution_count": 10,
     "metadata": {},
     "output_type": "execute_result"
    },
    {
     "data": {
      "image/png": "[encoded data removed]",
      "text/plain": [
       "<Figure size 640x480 with 1 Axes>"
      ]
     },
     "metadata": {},
     "output_type": "display_data"
    }
   ],
   "source": [
    "westminster = props[props['ID'] == 2]\n",
    "plt.plot(westminster['Month'],westminster['Average Price'])"
   ]
  },
  {
   "cell_type": "markdown",
   "metadata": {
    "colab_type": "text",
    "id": "aWTPqSJeqHnC"
   },
   "source": [
    "To limit the number of data points you have, you might want to extract the year from every month value your *Month* column. \n",
    "\n",
    "To this end, you *could* apply a ***lambda function***. Your logic could work as follows:\n",
    "1. look through the `Month` column\n",
    "2. extract the year from each individual value in that column \n",
    "3. store that corresponding year as separate column. \n",
    "\n",
    "Whether you go ahead with this is up to you. Just so long as you answer our initial brief: which boroughs of London have seen the greatest house price increase, on average, over the past two decades? "
   ]
  },
  {
   "cell_type": "code",
   "execution_count": 11,
   "metadata": {
    "colab": {},
    "colab_type": "code",
    "id": "e0DF92cyqnu8"
   },
   "outputs": [
    {
     "name": "stdout",
     "output_type": "stream",
     "text": [
      "Year                              1995           1996           1997  \\\n",
      "ID London Borough                                                      \n",
      "2  Westminster           133689.233033  139188.760342  165447.591208   \n",
      "3  Kensington & Chelsea  192857.260633  207156.693242  246655.603500   \n",
      "4  Hammersmith & Fulham  123238.002608  132045.188025  151723.237233   \n",
      "5  Wandsworth             88829.083075   92270.037989  108108.356495   \n",
      "6  Lambeth                68105.691318   72444.213648   85904.149699   \n",
      "7  Southwark              64260.053745   70117.306851   79725.850140   \n",
      "8  Tower Hamlets          63652.446010   70094.724437   85759.562757   \n",
      "9  Hackney                66024.476545   69247.652452   78176.799825   \n",
      "10 Islington              95555.069312   97069.716409  115551.856633   \n",
      "11 Camden                120367.431783  133810.487933  150142.901208   \n",
      "12 Brent                  73029.841840   75235.918367   86749.070663   \n",
      "13 Ealing                 81218.674792   83389.914491   97805.824543   \n",
      "14 Hounslow               72941.170845   73886.734233   84535.691348   \n",
      "15 Richmond upon Thames  109892.274008  117307.882658  136656.271017   \n",
      "16 Kingston upon Thames   82838.986157   87017.757822   99856.850760   \n",
      "17 Merton                 80500.752648   83999.034578   95699.209073   \n",
      "18 Sutton                 70291.304638   71651.920030   81094.119743   \n",
      "19 Croydon                68923.340845   69713.920086   77674.269967   \n",
      "20 Bromley                81967.316732   83547.483633   94224.688035   \n",
      "21 Lewisham               58881.766015   59886.613358   66150.695685   \n",
      "22 Greenwich              63389.786578   65186.781770   72067.770377   \n",
      "23 Bexley                 64291.532845   65490.417234   70789.406602   \n",
      "24 Havering               68281.012730   69347.956902   76215.401418   \n",
      "25 Barking & Dagenham     51817.969390   51718.192690   55974.262309   \n",
      "26 Redbridge              72580.490579   75358.658939   83371.972795   \n",
      "27 Newham                 54574.226405   55747.012583   60971.380317   \n",
      "28 Waltham Forest         61279.980463   62177.237897   68228.785835   \n",
      "29 Haringey               80078.489250   84501.247705   95429.847845   \n",
      "30 Enfield                71984.234888   74062.012957   83609.439219   \n",
      "31 Barnet                 91792.537433   94000.445448  106883.185546   \n",
      "32 Harrow                 83519.486319   85926.701202   99482.901462   \n",
      "33 Hillingdon             73755.756008   75753.415728   85947.109168   \n",
      "\n",
      "Year                              1998           1999           2000  \\\n",
      "ID London Borough                                                      \n",
      "2  Westminster           190531.949942  214042.702508  260492.249892   \n",
      "3  Kensington & Chelsea  268350.122142  311455.366475  376802.247850   \n",
      "4  Hammersmith & Fulham  175340.921250  198901.180225  247266.223642   \n",
      "5  Wandsworth            125406.807233  145339.809767  184275.835267   \n",
      "6  Lambeth               103179.118943  116616.291725  148038.777992   \n",
      "7  Southwark              91405.187779  110267.545583  142266.729008   \n",
      "8  Tower Hamlets          96505.166407  113035.289367  141287.778167   \n",
      "9  Hackney                87869.535804  105532.969242  132727.506075   \n",
      "10 Islington             134148.973300  155589.737392  192634.091992   \n",
      "11 Camden                170688.973933  191090.697392  247114.633575   \n",
      "12 Brent                 100692.590417  112157.469808  140962.500458   \n",
      "13 Ealing                111343.154650  126278.342342  153309.280133   \n",
      "14 Hounslow               99746.069682  112073.661042  136624.857775   \n",
      "15 Richmond upon Thames  162956.066025  181772.319642  227866.164158   \n",
      "16 Kingston upon Thames  116399.769158  129697.035550  162805.826108   \n",
      "17 Merton                108049.855117  121901.372575  151605.431075   \n",
      "18 Sutton                 92087.045921  100869.813722  125952.047500   \n",
      "19 Croydon                88143.228830   97173.322854  118777.304475   \n",
      "20 Bromley               108286.520467  120874.179567  147826.713417   \n",
      "21 Lewisham               75539.051649   84695.143870  107082.680011   \n",
      "22 Greenwich              81532.933366   90879.131712  110162.975158   \n",
      "23 Bexley                 80632.020822   86777.715903  103186.665184   \n",
      "24 Havering               85602.087978   92889.340459  109432.774133   \n",
      "25 Barking & Dagenham     60285.821083   65320.934441   77549.513290   \n",
      "26 Redbridge              94514.395822  102940.450633  124379.142075   \n",
      "27 Newham                 67671.270763   74525.568363   92887.329294   \n",
      "28 Waltham Forest         75557.474132   83821.587936  103030.676566   \n",
      "29 Haringey              107419.850108  120083.463283  145997.085533   \n",
      "30 Enfield                93030.224322  101986.993642  121839.206633   \n",
      "31 Barnet                122359.468033  136004.512067  167952.633958   \n",
      "32 Harrow                114778.250067  126687.576558  152494.290858   \n",
      "33 Hillingdon             97676.048952  108925.420758  131432.235433   \n",
      "\n",
      "Year                              2001           2002           2003  \\\n",
      "ID London Borough                                                      \n",
      "2  Westminster           296105.498142  339622.391283  363466.029992   \n",
      "3  Kensington & Chelsea  420129.468692  460382.450483  460490.624217   \n",
      "4  Hammersmith & Fulham  271918.783600  302459.055983  318805.688292   \n",
      "5  Wandsworth            205179.661233  232805.560442  253342.476767   \n",
      "6  Lambeth               164684.736825  190451.027867  203377.217808   \n",
      "7  Southwark             164486.246675  184684.204442  199583.838183   \n",
      "8  Tower Hamlets         162505.936058  187288.508558  207901.578408   \n",
      "9  Hackney               153406.324217  180269.456333  201071.484342   \n",
      "10 Islington             219818.398933  247761.215508  262085.288292   \n",
      "11 Camden                278594.043717  314179.507833  323053.850375   \n",
      "12 Brent                 157287.404625  185898.147992  216501.757008   \n",
      "13 Ealing                170190.618025  198426.774842  221689.173708   \n",
      "14 Hounslow              153622.969375  175132.157400  198261.234492   \n",
      "15 Richmond upon Thames  241333.288742  271689.372425  294167.994608   \n",
      "16 Kingston upon Thames  178822.594725  203104.899908  228280.486783   \n",
      "17 Merton                167046.236783  195714.692417  220394.193150   \n",
      "18 Sutton                137910.189683  162526.655508  187815.760933   \n",
      "19 Croydon               132509.212908  157022.768092  185784.025417   \n",
      "20 Bromley               162131.842133  186646.043217  215992.974433   \n",
      "21 Lewisham              121333.172717  143764.029800  170885.739492   \n",
      "22 Greenwich             125820.069908  147421.507267  171042.618658   \n",
      "23 Bexley                116527.134750  136797.964475  164482.038908   \n",
      "24 Havering              124071.396958  149065.935742  179117.781233   \n",
      "25 Barking & Dagenham     88664.058223  112221.912482  142498.927800   \n",
      "26 Redbridge             141587.528275  169368.107767  203571.971092   \n",
      "27 Newham                108763.058008  137455.635925  168437.517258   \n",
      "28 Waltham Forest        118843.459333  148137.483958  175075.867192   \n",
      "29 Haringey              165127.040517  195801.255092  220320.069275   \n",
      "30 Enfield               135713.171425  159791.067967  190572.739383   \n",
      "31 Barnet                185563.352600  220746.059225  251212.927683   \n",
      "32 Harrow                170250.168608  202680.884917  232598.354442   \n",
      "33 Hillingdon            145293.690417  172147.039125  202707.807350   \n",
      "\n",
      "Year                              2004  ...          2014          2015  \\\n",
      "ID London Borough                       ...                               \n",
      "2  Westminster           379395.350458  ...  9.227022e+05  9.646431e+05   \n",
      "3  Kensington & Chelsea  512186.669083  ...  1.288406e+06  1.302103e+06   \n",
      "4  Hammersmith & Fulham  343380.916750  ...  7.210999e+05  7.608336e+05   \n",
      "5  Wandsworth            271649.723533  ...  5.445150e+05  5.726912e+05   \n",
      "6  Lambeth               221888.931058  ...  4.336249e+05  4.716140e+05   \n",
      "7  Southwark             216903.918592  ...  4.277674e+05  4.678675e+05   \n",
      "8  Tower Hamlets         219986.892633  ...  3.822417e+05  4.219438e+05   \n",
      "9  Hackney               217677.077825  ...  4.563884e+05  5.067990e+05   \n",
      "10 Islington             285947.162592  ...  5.851713e+05  6.431479e+05   \n",
      "11 Camden                351847.799300  ...  7.564865e+05  7.874409e+05   \n",
      "12 Brent                 236023.435958  ...  3.946875e+05  4.409517e+05   \n",
      "13 Ealing                241038.541267  ...  4.000393e+05  4.383105e+05   \n",
      "14 Hounslow              215827.150708  ...  3.245259e+05  3.514381e+05   \n",
      "15 Richmond upon Thames  316540.906067  ...  5.770553e+05  6.187781e+05   \n",
      "16 Kingston upon Thames  246424.125283  ...  4.061064e+05  4.380025e+05   \n",
      "17 Merton                238098.806908  ...  4.199768e+05  4.577021e+05   \n",
      "18 Sutton                201829.271908  ...  2.911321e+05  3.229321e+05   \n",
      "19 Croydon               198588.532325  ...  2.748274e+05  3.070641e+05   \n",
      "20 Bromley               234462.682883  ...  3.478572e+05  3.856815e+05   \n",
      "21 Lewisham              184058.520925  ...  3.158126e+05  3.550500e+05   \n",
      "22 Greenwich             186893.592725  ...  2.983515e+05  3.318488e+05   \n",
      "23 Bexley                179141.168258  ...  2.444594e+05  2.742093e+05   \n",
      "24 Havering              195992.397675  ...  2.592673e+05  2.918448e+05   \n",
      "25 Barking & Dagenham    158175.982483  ...  2.011722e+05  2.334601e+05   \n",
      "26 Redbridge             222917.561708  ...  3.041625e+05  3.437953e+05   \n",
      "27 Newham                185680.343950  ...  2.583123e+05  2.975581e+05   \n",
      "28 Waltham Forest        191377.779783  ...  3.149344e+05  3.575134e+05   \n",
      "29 Haringey              236265.141883  ...  4.358077e+05  4.806361e+05   \n",
      "30 Enfield               205848.201608  ...  2.945158e+05  3.355035e+05   \n",
      "31 Barnet                271854.112992  ...  4.303634e+05  4.786879e+05   \n",
      "32 Harrow                252291.715792  ...  3.607958e+05  4.086044e+05   \n",
      "33 Hillingdon            215696.088150  ...  3.057819e+05  3.527483e+05   \n",
      "\n",
      "Year                             2016          2017          2018  \\\n",
      "ID London Borough                                                   \n",
      "2  Westminster           9.955434e+05  1.064772e+06  1.020025e+06   \n",
      "3  Kensington & Chelsea  1.276235e+06  1.344540e+06  1.363880e+06   \n",
      "4  Hammersmith & Fulham  7.550974e+05  7.569004e+05  7.255253e+05   \n",
      "5  Wandsworth            6.087409e+05  6.179215e+05  5.966491e+05   \n",
      "6  Lambeth               5.145623e+05  5.185035e+05  5.115364e+05   \n",
      "7  Southwark             5.103313e+05  5.158833e+05  5.042354e+05   \n",
      "8  Tower Hamlets         4.571296e+05  4.592791e+05  4.465006e+05   \n",
      "9  Hackney               5.377463e+05  5.490056e+05  5.446405e+05   \n",
      "10 Islington             6.421372e+05  6.501146e+05  6.498241e+05   \n",
      "11 Camden                8.071190e+05  8.393475e+05  8.424104e+05   \n",
      "12 Brent                 4.894694e+05  4.877038e+05  4.928454e+05   \n",
      "13 Ealing                4.764407e+05  4.845922e+05  4.800505e+05   \n",
      "14 Hounslow              3.864620e+05  4.009045e+05  3.966312e+05   \n",
      "15 Richmond upon Thames  6.537608e+05  6.652847e+05  6.526654e+05   \n",
      "16 Kingston upon Thames  4.833334e+05  4.923186e+05  4.970910e+05   \n",
      "17 Merton                5.002674e+05  5.121858e+05  5.122939e+05   \n",
      "18 Sutton                3.653031e+05  3.769246e+05  3.792626e+05   \n",
      "19 Croydon               3.558468e+05  3.725545e+05  3.702985e+05   \n",
      "20 Bromley               4.280081e+05  4.412186e+05  4.434100e+05   \n",
      "21 Lewisham              4.026487e+05  4.110490e+05  4.116290e+05   \n",
      "22 Greenwich             3.727377e+05  3.917499e+05  3.883443e+05   \n",
      "23 Bexley                3.215635e+05  3.356945e+05  3.426036e+05   \n",
      "24 Havering              3.418039e+05  3.604792e+05  3.702488e+05   \n",
      "25 Barking & Dagenham    2.739196e+05  2.877347e+05  2.951967e+05   \n",
      "26 Redbridge             3.918373e+05  4.103002e+05  4.225911e+05   \n",
      "27 Newham                3.479569e+05  3.621315e+05  3.590225e+05   \n",
      "28 Waltham Forest        4.131493e+05  4.361165e+05  4.408594e+05   \n",
      "29 Haringey              5.276766e+05  5.573069e+05  5.515606e+05   \n",
      "30 Enfield               3.854898e+05  3.959292e+05  3.966317e+05   \n",
      "31 Barnet                5.259396e+05  5.382810e+05  5.332665e+05   \n",
      "32 Harrow                4.538623e+05  4.707634e+05  4.659075e+05   \n",
      "33 Hillingdon            4.007915e+05  4.135865e+05  4.102661e+05   \n",
      "\n",
      "Year                             2019          2020          2021  \\\n",
      "ID London Borough                                                   \n",
      "2  Westminster           9.559986e+05  9.604692e+05  9.627774e+05   \n",
      "3  Kensington & Chelsea  1.241423e+06  1.326363e+06  1.321816e+06   \n",
      "4  Hammersmith & Fulham  7.189969e+05  7.284450e+05  7.647193e+05   \n",
      "5  Wandsworth            5.884964e+05  6.116108e+05  6.115128e+05   \n",
      "6  Lambeth               5.081488e+05  5.282412e+05  5.334837e+05   \n",
      "7  Southwark             4.993704e+05  5.108697e+05  5.147647e+05   \n",
      "8  Tower Hamlets         4.382874e+05  4.644135e+05  4.548191e+05   \n",
      "9  Hackney               5.549333e+05  5.822954e+05  5.938678e+05   \n",
      "10 Islington             6.336665e+05  6.627643e+05  6.903021e+05   \n",
      "11 Camden                8.430669e+05  8.298632e+05  8.360694e+05   \n",
      "12 Brent                 4.747318e+05  4.858513e+05  5.137365e+05   \n",
      "13 Ealing                4.726204e+05  4.796293e+05  5.062661e+05   \n",
      "14 Hounslow              4.010722e+05  4.102883e+05  4.246374e+05   \n",
      "15 Richmond upon Thames  6.494431e+05  6.809452e+05  7.112965e+05   \n",
      "16 Kingston upon Thames  4.873276e+05  4.903184e+05  5.131464e+05   \n",
      "17 Merton                5.054811e+05  5.238366e+05  5.496600e+05   \n",
      "18 Sutton                3.719935e+05  3.782149e+05  4.021761e+05   \n",
      "19 Croydon               3.656784e+05  3.749851e+05  3.951469e+05   \n",
      "20 Bromley               4.364862e+05  4.347601e+05  4.659721e+05   \n",
      "21 Lewisham              4.090174e+05  4.229058e+05  4.381126e+05   \n",
      "22 Greenwich             3.932791e+05  3.953967e+05  4.052923e+05   \n",
      "23 Bexley                3.369878e+05  3.430448e+05  3.660097e+05   \n",
      "24 Havering              3.646522e+05  3.703594e+05  3.908328e+05   \n",
      "25 Barking & Dagenham    2.983379e+05  3.021431e+05  3.165078e+05   \n",
      "26 Redbridge             4.119679e+05  4.232904e+05  4.540828e+05   \n",
      "27 Newham                3.639930e+05  3.714328e+05  3.877505e+05   \n",
      "28 Waltham Forest        4.308349e+05  4.500124e+05  4.776077e+05   \n",
      "29 Haringey              5.461304e+05  5.596529e+05  5.750038e+05   \n",
      "30 Enfield               3.926740e+05  3.959921e+05  4.240155e+05   \n",
      "31 Barnet                5.205238e+05  5.257802e+05  5.507288e+05   \n",
      "32 Harrow                4.493471e+05  4.533452e+05  4.859273e+05   \n",
      "33 Hillingdon            4.044440e+05  4.098236e+05  4.312636e+05   \n",
      "\n",
      "Year                             2022         2023  \n",
      "ID London Borough                                   \n",
      "2  Westminster           1.016901e+06  1002961.125  \n",
      "3  Kensington & Chelsea  1.449215e+06  1347605.625  \n",
      "4  Hammersmith & Fulham  7.704564e+05   780775.875  \n",
      "5  Wandsworth            6.337581e+05   626314.625  \n",
      "6  Lambeth               5.467934e+05   550752.500  \n",
      "7  Southwark             5.422347e+05   540100.625  \n",
      "8  Tower Hamlets         4.701532e+05   484616.875  \n",
      "9  Hackney               6.274917e+05   632248.750  \n",
      "10 Islington             7.132789e+05   701425.625  \n",
      "11 Camden                8.582876e+05   857227.625  \n",
      "12 Brent                 5.409275e+05   537057.375  \n",
      "13 Ealing                5.248803e+05   532452.250  \n",
      "14 Hounslow              4.404657e+05   457513.625  \n",
      "15 Richmond upon Thames  7.503720e+05   755017.875  \n",
      "16 Kingston upon Thames  5.425746e+05   547707.500  \n",
      "17 Merton                5.668089e+05   578227.000  \n",
      "18 Sutton                4.309584e+05   434617.750  \n",
      "19 Croydon               4.181851e+05   416987.125  \n",
      "20 Bromley               4.979929e+05   504548.500  \n",
      "21 Lewisham              4.527818e+05   457038.125  \n",
      "22 Greenwich             4.257147e+05   431797.625  \n",
      "23 Bexley                3.944993e+05   398208.750  \n",
      "24 Havering              4.196889e+05   426391.250  \n",
      "25 Barking & Dagenham    3.436774e+05   347638.750  \n",
      "26 Redbridge             4.738868e+05   469795.500  \n",
      "27 Newham                4.071591e+05   411556.375  \n",
      "28 Waltham Forest        5.009085e+05   504998.250  \n",
      "29 Haringey              5.940209e+05   605221.125  \n",
      "30 Enfield               4.470917e+05   442493.250  \n",
      "31 Barnet                5.873676e+05   591342.750  \n",
      "32 Harrow                5.175152e+05   510925.875  \n",
      "33 Hillingdon            4.544247e+05   456868.500  \n",
      "\n",
      "[32 rows x 29 columns]\n"
     ]
    }
   ],
   "source": [
    "props['Year'] = props['Month'].apply(lambda x: x.year)\n",
    "props_yearly = props.groupby(['ID','London Borough','Year'])['Average Price'].mean()\n",
    "props_yearly = props_yearly.reset_index()\n",
    "props_pivot = props_yearly.pivot(index=['ID','London Borough'], columns='Year', values='Average Price')\n",
    "print(props_pivot)"
   ]
  },
  {
   "cell_type": "markdown",
   "metadata": {
    "colab_type": "text",
    "id": "2knuTxAEqoJ4"
   },
   "source": [
    "**3. Modeling**\n",
    "\n",
    "Consider creating a function that will calculate a ratio of house prices, comparing the price of a house in 2018 to the price in 1998.\n",
    "\n",
    "Consider calling this function create_price_ratio.\n",
    "\n",
    "You'd want this function to:\n",
    "1. Take a filter of dfg, specifically where this filter constrains the London_Borough, as an argument. For example, one admissible argument should be: dfg[dfg['London_Borough']=='Camden'].\n",
    "2. Get the Average Price for that Borough, for the years 1998 and 2018.\n",
    "4. Calculate the ratio of the Average Price for 1998 divided by the Average Price for 2018.\n",
    "5. Return that ratio.\n",
    "\n",
    "Once you've written this function, you ultimately want to use it to iterate through all the unique London_Boroughs and work out the ratio capturing the difference of house prices between 1998 and 2018.\n",
    "\n",
    "Bear in mind: you don't have to write a function like this if you don't want to. If you can solve the brief otherwise, then great! \n",
    "\n",
    "***Hint***: This section should test the skills you acquired in:\n",
    "- Python Data Science Toolbox - Part One, all modules"
   ]
  },
  {
   "cell_type": "code",
   "execution_count": 12,
   "metadata": {
    "colab": {},
    "colab_type": "code",
    "id": "cKTyr437UgDa"
   },
   "outputs": [
    {
     "name": "stdout",
     "output_type": "stream",
     "text": [
      "                           Price, 1998   Price, 2018     Ratio\n",
      "ID London Borough                                             \n",
      "9  Hackney                87869.535804  5.446405e+05  0.161335\n",
      "28 Waltham Forest         75557.474132  4.408594e+05  0.171387\n",
      "7  Southwark              91405.187779  5.042354e+05  0.181275\n",
      "21 Lewisham               75539.051649  4.116290e+05  0.183512\n",
      "2  Westminster           190531.949942  1.020025e+06  0.186791\n",
      "27 Newham                 67671.270763  3.590225e+05  0.188488\n",
      "29 Haringey              107419.850108  5.515606e+05  0.194756\n",
      "3  Kensington & Chelsea  268350.122142  1.363880e+06  0.196755\n",
      "6  Lambeth               103179.118943  5.115364e+05  0.201704\n",
      "11 Camden                170688.973933  8.424104e+05  0.202620\n",
      "25 Barking & Dagenham     60285.821083  2.951967e+05  0.204223\n",
      "12 Brent                 100692.590417  4.928454e+05  0.204309\n",
      "10 Islington             134148.973300  6.498241e+05  0.206439\n",
      "22 Greenwich              81532.933366  3.883443e+05  0.209950\n",
      "5  Wandsworth            125406.807233  5.966491e+05  0.210185\n",
      "17 Merton                108049.855117  5.122939e+05  0.210914\n",
      "8  Tower Hamlets          96505.166407  4.465006e+05  0.216137\n",
      "26 Redbridge              94514.395822  4.225911e+05  0.223655\n",
      "31 Barnet                122359.468033  5.332665e+05  0.229453\n",
      "24 Havering               85602.087978  3.702488e+05  0.231202\n",
      "13 Ealing                111343.154650  4.800505e+05  0.231940\n",
      "16 Kingston upon Thames  116399.769158  4.970910e+05  0.234162\n",
      "30 Enfield                93030.224322  3.966317e+05  0.234551\n",
      "23 Bexley                 80632.020822  3.426036e+05  0.235351\n",
      "19 Croydon                88143.228830  3.702985e+05  0.238033\n",
      "33 Hillingdon             97676.048952  4.102661e+05  0.238080\n",
      "4  Hammersmith & Fulham  175340.921250  7.255253e+05  0.241674\n",
      "18 Sutton                 92087.045921  3.792626e+05  0.242806\n",
      "20 Bromley               108286.520467  4.434100e+05  0.244213\n",
      "32 Harrow                114778.250067  4.659075e+05  0.246354\n",
      "15 Richmond upon Thames  162956.066025  6.526654e+05  0.249678\n",
      "14 Hounslow               99746.069682  3.966312e+05  0.251483\n"
     ]
    }
   ],
   "source": [
    "props_final = props_pivot[[1998,2018]].copy()\n",
    "props_final['Ratio'] = props_final[1998]/props_final[2018]\n",
    "props_final.columns = ['Price, 1998', 'Price, 2018', 'Ratio']\n",
    "#print(props_final)\n",
    "\n",
    "props_by_ratio = props_final.sort_values(['Ratio'])\n",
    "print(props_by_ratio)"
   ]
  },
  {
   "cell_type": "code",
   "execution_count": 13,
   "metadata": {},
   "outputs": [
    {
     "data": {
      "image/png": "[encoded data removed]",
      "text/plain": [
       "<Figure size 640x480 with 1 Axes>"
      ]
     },
     "metadata": {},
     "output_type": "display_data"
    }
   ],
   "source": [
    "index = list(props_by_ratio.index)\n",
    "x = []\n",
    "for i,borough in index:\n",
    "    x.append(str(i) + ' - ' + borough)\n",
    "y1998 = props_by_ratio['Price, 1998'].tolist()\n",
    "y2018 = props_by_ratio['Price, 2018'].tolist()\n",
    "\n",
    "plt.barh(x,y1998,alpha=0.5)\n",
    "plt.barh(x,y2018,alpha=0.5)\n",
    "plt.show()"
   ]
  },
  {
   "cell_type": "markdown",
   "metadata": {
    "colab_type": "text",
    "id": "NzYUI7FxJpgv"
   },
   "source": [
    "### 4. Conclusion\n",
    "What can you conclude? Type out your conclusion below. \n",
    "\n",
    "Look back at your notebook. Think about how you might summarize what you have done, and prepare a quick presentation on it to your mentor at your next meeting. \n",
    "\n",
    "We hope you enjoyed this practical project. It should have consolidated your data hygiene and pandas skills by looking at a real-world problem involving just the kind of dataset you might encounter as a budding data scientist. Congratulations, and looking forward to seeing you at the next step in the course! "
   ]
  },
  {
   "attachments": {},
   "cell_type": "markdown",
   "metadata": {},
   "source": [
    "As could be seen from the final data frame as well as the figure produced, the top 5 London Boroughs seeing the greatest increases in housing prices are:\n",
    "\n",
    "1. Hackney\n",
    "2. Waltham Forest\n",
    "3. Southwark\n",
    "4. Lewisham\n",
    "5. Westminster"
   ]
  }
 ],
 "metadata": {
  "colab": {
   "collapsed_sections": [],
   "name": "Springboard Data Science Career Track Unit 4 Challenge - Tier 3 Complete .ipynb",
   "provenance": []
  },
  "kernelspec": {
   "display_name": "Python 3 (ipykernel)",
   "language": "python",
   "name": "python3"
  },
  "language_info": {
   "codemirror_mode": {
    "name": "ipython",
    "version": 3
   },
   "file_extension": ".py",
   "mimetype": "text/x-python",
   "name": "python",
   "nbconvert_exporter": "python",
   "pygments_lexer": "ipython3",
   "version": "3.11.5"
  }
 },
 "nbformat": 4,
 "nbformat_minor": 1
}
