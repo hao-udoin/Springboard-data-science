{
 "cells": [
  {
   "cell_type": "code",
   "execution_count": 1,
   "id": "1d0f4152",
   "metadata": {},
   "outputs": [],
   "source": [
    "import pandas as pd\n",
    "import sqlite3\n",
    "\n",
    "con = sqlite3.connect(\"sqlite_db_pythonsqlite.db\")"
   ]
  },
  {
   "cell_type": "code",
   "execution_count": 2,
   "id": "079e1288",
   "metadata": {},
   "outputs": [
    {
     "name": "stdout",
     "output_type": "stream",
     "text": [
      "   facid             name  membercost  guestcost  initialoutlay  \\\n",
      "0      0   Tennis Court 1         5.0       25.0          10000   \n",
      "1      1   Tennis Court 2         5.0       25.0           8000   \n",
      "2      2  Badminton Court         0.0       15.5           4000   \n",
      "3      3     Table Tennis         0.0        5.0            320   \n",
      "4      4   Massage Room 1         9.9       80.0           4000   \n",
      "\n",
      "   monthlymaintenance  \n",
      "0                 200  \n",
      "1                 200  \n",
      "2                  50  \n",
      "3                  10  \n",
      "4                3000  \n"
     ]
    }
   ],
   "source": [
    "query = \"SELECT * FROM Facilities\"\n",
    "df = pd.read_sql_query(query, con)\n",
    "print(df.head())"
   ]
  },
  {
   "cell_type": "code",
   "execution_count": 3,
   "id": "38e606c5",
   "metadata": {},
   "outputs": [
    {
     "name": "stdout",
     "output_type": "stream",
     "text": [
      "   memid   surname firstname                       address  zipcode  \\\n",
      "0      0     GUEST     GUEST                         GUEST        0   \n",
      "1      1     Smith    Darren    8 Bloomsbury Close, Boston     4321   \n",
      "2      2     Smith     Tracy  8 Bloomsbury Close, New York     4321   \n",
      "3      3    Rownam       Tim        23 Highway Way, Boston    23423   \n",
      "4      4  Joplette    Janice    20 Crossing Road, New York      234   \n",
      "\n",
      "        telephone recommendedby             joindate  \n",
      "0  (000) 000-0000                2012-07-01 00:00:00  \n",
      "1    555-555-5555                2012-07-02 12:02:05  \n",
      "2    555-555-5555                2012-07-02 12:08:23  \n",
      "3  (844) 693-0723                2012-07-03 09:32:15  \n",
      "4  (833) 942-4710             1  2012-07-03 10:25:05  \n"
     ]
    }
   ],
   "source": [
    "query = \"SELECT * FROM Members\"\n",
    "df = pd.read_sql_query(query, con)\n",
    "print(df.head())"
   ]
  },
  {
   "cell_type": "code",
   "execution_count": 4,
   "id": "0cd77017",
   "metadata": {},
   "outputs": [
    {
     "name": "stdout",
     "output_type": "stream",
     "text": [
      "   bookid  facid  memid            starttime  slots\n",
      "0       0      3      1  2012-07-03 11:00:00      2\n",
      "1       1      4      1  2012-07-03 08:00:00      2\n",
      "2       2      6      0  2012-07-03 18:00:00      2\n",
      "3       3      7      1  2012-07-03 19:00:00      2\n",
      "4       4      8      1  2012-07-03 10:00:00      1\n"
     ]
    }
   ],
   "source": [
    "query = \"SELECT * FROM Bookings\"\n",
    "df = pd.read_sql_query(query, con)\n",
    "print(df.head())"
   ]
  },
  {
   "cell_type": "markdown",
   "id": "2f1ba83b",
   "metadata": {},
   "source": [
    "/* Q10: Produce a list of facilities with a total revenue less than 1000.\n",
    "The output of facility name and total revenue, sorted by revenue. Remember\n",
    "that there's a different cost for guests and members! */"
   ]
  },
  {
   "cell_type": "code",
   "execution_count": 5,
   "id": "9510364d",
   "metadata": {},
   "outputs": [
    {
     "name": "stdout",
     "output_type": "stream",
     "text": [
      "            name  totalrev\n",
      "0   Table Tennis       180\n",
      "1  Snooker Table       240\n",
      "2     Pool Table       270\n"
     ]
    }
   ],
   "source": [
    "query = \"\"\"\n",
    "SELECT f.name,\n",
    "    SUM(CASE WHEN b.memid=0 THEN b.slots*f.guestcost\n",
    "        ELSE b.slots*f.membercost END) AS totalrev\n",
    "FROM Bookings AS b\n",
    "LEFT JOIN Facilities AS f\n",
    "    ON b.facid = f.facid\n",
    "LEFT JOIN Members AS m\n",
    "    ON b.memid = m.memid\n",
    "GROUP BY b.facid\n",
    "HAVING totalrev < 1000\n",
    "ORDER BY totalrev;\n",
    "\"\"\"\n",
    "\n",
    "df = pd.read_sql_query(query, con)\n",
    "print(df)"
   ]
  },
  {
   "cell_type": "markdown",
   "id": "e05ed171",
   "metadata": {},
   "source": [
    "/* Q11: Produce a report of members and who recommended them in alphabetic surname,firstname order */"
   ]
  },
  {
   "cell_type": "code",
   "execution_count": 6,
   "id": "a467a1ab",
   "metadata": {},
   "outputs": [
    {
     "name": "stdout",
     "output_type": "stream",
     "text": [
      "                      member         recommender\n",
      "0            Bader, Florence    Stibbons, Ponder\n",
      "1                Baker, Anne    Stibbons, Ponder\n",
      "2             Baker, Timothy     Farrell, Jemima\n",
      "3                Boothe, Tim         Rownam, Tim\n",
      "4            Butters, Gerald       Smith, Darren\n",
      "5               Coplin, Joan      Baker, Timothy\n",
      "6             Crumpet, Erica        Smith, Tracy\n",
      "7                Dare, Nancy    Joplette, Janice\n",
      "8           Genting, Matthew     Butters, Gerald\n",
      "9                 Hunt, John  Purview, Millicent\n",
      "10              Jones, David    Joplette, Janice\n",
      "11            Jones, Douglas        Jones, David\n",
      "12          Joplette, Janice       Smith, Darren\n",
      "13           Mackenzie, Anna       Smith, Darren\n",
      "14             Owen, Charles       Smith, Darren\n",
      "15             Pinker, David     Farrell, Jemima\n",
      "16        Purview, Millicent        Smith, Tracy\n",
      "17         Rumney, Henrietta    Genting, Matthew\n",
      "18         Sarwin, Ramnaresh     Bader, Florence\n",
      "19               Smith, Jack       Smith, Darren\n",
      "20          Stibbons, Ponder       Tracy, Burton\n",
      "21  Worthington-Smyth, Henry        Smith, Tracy\n"
     ]
    }
   ],
   "source": [
    "query = \"\"\"\n",
    "SELECT m1.surname || ', '|| m1.firstname AS member,\n",
    "    m2.surname || ', ' || m2.firstname AS recommender\n",
    "FROM Members as m1, Members as m2\n",
    "WHERE m1.recommendedby = m2.memid\n",
    "ORDER BY member;\n",
    "\"\"\"\n",
    "\n",
    "df = pd.read_sql_query(query, con)\n",
    "print(df)"
   ]
  },
  {
   "cell_type": "markdown",
   "id": "720aae55",
   "metadata": {},
   "source": [
    "/* Q12: Find the facilities with their usage by member, but not guests */"
   ]
  },
  {
   "cell_type": "code",
   "execution_count": 7,
   "id": "ee50eef5",
   "metadata": {},
   "outputs": [
    {
     "name": "stdout",
     "output_type": "stream",
     "text": [
      "              name  hours\n",
      "0   Tennis Court 1    478\n",
      "1   Tennis Court 2    441\n",
      "2  Badminton Court    543\n",
      "3     Table Tennis    397\n",
      "4   Massage Room 1    442\n",
      "5   Massage Room 2     27\n",
      "6     Squash Court    209\n",
      "7    Snooker Table    430\n",
      "8       Pool Table    428\n"
     ]
    }
   ],
   "source": [
    "query = \"\"\"\n",
    "SELECT f.name, SUM(slots) AS hours\n",
    "FROM Bookings as b\n",
    "LEFT JOIN Facilities AS f ON b.facid = f.facid\n",
    "WHERE memid != 0\n",
    "GROUP BY b.facid;\n",
    "\"\"\"\n",
    "\n",
    "df = pd.read_sql_query(query, con)\n",
    "print(df)"
   ]
  },
  {
   "cell_type": "markdown",
   "id": "9e79f53d",
   "metadata": {},
   "source": [
    "/* Q13: Find the facilities usage by month, but not guests */"
   ]
  },
  {
   "cell_type": "code",
   "execution_count": 9,
   "id": "47cc99a3",
   "metadata": {},
   "outputs": [
    {
     "name": "stdout",
     "output_type": "stream",
     "text": [
      "               name month  hours\n",
      "0    Tennis Court 1    07    100\n",
      "1    Tennis Court 1    08    169\n",
      "2    Tennis Court 1    09    208\n",
      "3    Tennis Court 2    07     61\n",
      "4    Tennis Court 2    08    172\n",
      "5    Tennis Court 2    09    207\n",
      "6   Badminton Court    07     82\n",
      "7   Badminton Court    08    207\n",
      "8   Badminton Court    09    253\n",
      "9      Table Tennis    07     49\n",
      "10     Table Tennis    08    148\n",
      "11     Table Tennis    09    200\n",
      "12   Massage Room 1    07     83\n",
      "13   Massage Room 1    08    158\n",
      "14   Massage Room 1    09    201\n",
      "15   Massage Room 2    07      4\n",
      "16   Massage Room 2    08      9\n",
      "17   Massage Room 2    09     14\n",
      "18     Squash Court    07     25\n",
      "19     Squash Court    08     92\n",
      "20     Squash Court    09     92\n",
      "21    Snooker Table    07     70\n",
      "22    Snooker Table    08    158\n",
      "23    Snooker Table    09    202\n",
      "24       Pool Table    07     55\n",
      "25       Pool Table    08    151\n",
      "26       Pool Table    09    221\n"
     ]
    }
   ],
   "source": [
    "query = \"\"\"\n",
    "SELECT f.name, STRFTIME('%m', starttime) AS month,\n",
    "    SUM(slots)/2 AS hours\n",
    "FROM Bookings as b\n",
    "LEFT JOIN Facilities AS f ON b.facid = f.facid\n",
    "WHERE memid != 0\n",
    "GROUP BY b.facid, month;\n",
    "\"\"\"\n",
    "\n",
    "df = pd.read_sql_query(query, con)\n",
    "print(df)"
   ]
  },
  {
   "cell_type": "code",
   "execution_count": null,
   "id": "b9b8e72f",
   "metadata": {},
   "outputs": [],
   "source": [
    "con.close()"
   ]
  }
 ],
 "metadata": {
  "kernelspec": {
   "display_name": "Python 3 (ipykernel)",
   "language": "python",
   "name": "python3"
  },
  "language_info": {
   "codemirror_mode": {
    "name": "ipython",
    "version": 3
   },
   "file_extension": ".py",
   "mimetype": "text/x-python",
   "name": "python",
   "nbconvert_exporter": "python",
   "pygments_lexer": "ipython3",
   "version": "3.11.5"
  }
 },
 "nbformat": 4,
 "nbformat_minor": 5
}
